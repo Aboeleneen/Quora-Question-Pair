{
  "nbformat": 4,
  "nbformat_minor": 0,
  "metadata": {
    "colab": {
      "name": "Quora_Question_pair.ipynb",
      "provenance": [],
      "collapsed_sections": [],
      "toc_visible": true,
      "include_colab_link": true
    },
    "kernelspec": {
      "name": "python3",
      "display_name": "Python 3"
    }
  },
  "cells": [
    {
      "cell_type": "markdown",
      "metadata": {
        "id": "view-in-github",
        "colab_type": "text"
      },
      "source": [
        "<a href=\"https://colab.research.google.com/github/Aboeleneen/Quora-Question-Pair/blob/master/Quora_Question_pair.ipynb\" target=\"_parent\"><img src=\"https://colab.research.google.com/assets/colab-badge.svg\" alt=\"Open In Colab\"/></a>"
      ]
    },
    {
      "cell_type": "markdown",
      "metadata": {
        "id": "oAghgfG1ey1z"
      },
      "source": [
        "## Import Package "
      ]
    },
    {
      "cell_type": "code",
      "metadata": {
        "id": "N1bv5_60ONwC",
        "outputId": "f49a7afb-504c-408b-c283-c85f5a01816a",
        "colab": {
          "base_uri": "https://localhost:8080/",
          "height": 146
        }
      },
      "source": [
        "import numpy as np\n",
        "import pandas as pd\n",
        "import nltk # natural language toolkit\n",
        "from bs4 import BeautifulSoup  # To remove html tags\n",
        "from nltk.tokenize import word_tokenize # To split a sentence into separate tokens.\n",
        "from nltk.corpus import stopwords # i , he , she , ....\n",
        "from nltk.stem import WordNetLemmatizer # Generate the root form of the inflected words\n",
        "\n",
        "import string \n",
        "\n",
        "nltk.download('punkt')\n",
        "nltk.download('stopwords')\n",
        "nltk.download('wordnet')"
      ],
      "execution_count": null,
      "outputs": [
        {
          "output_type": "stream",
          "text": [
            "[nltk_data] Downloading package punkt to /root/nltk_data...\n",
            "[nltk_data]   Package punkt is already up-to-date!\n",
            "[nltk_data] Downloading package stopwords to /root/nltk_data...\n",
            "[nltk_data]   Package stopwords is already up-to-date!\n",
            "[nltk_data] Downloading package wordnet to /root/nltk_data...\n",
            "[nltk_data]   Package wordnet is already up-to-date!\n"
          ],
          "name": "stdout"
        },
        {
          "output_type": "execute_result",
          "data": {
            "text/plain": [
              "True"
            ]
          },
          "metadata": {
            "tags": []
          },
          "execution_count": 4
        }
      ]
    },
    {
      "cell_type": "markdown",
      "metadata": {
        "id": "V3FXrbfmbm2H"
      },
      "source": [
        "## Data Loading"
      ]
    },
    {
      "cell_type": "code",
      "metadata": {
        "id": "PRHQMXQ-szdh",
        "cellView": "both",
        "outputId": "eb926ed9-f164-4bd5-fe95-886540aae1ca",
        "colab": {
          "base_uri": "https://localhost:8080/",
          "height": 35
        }
      },
      "source": [
        "from google.colab import drive\n",
        "drive.mount('/content/drive')"
      ],
      "execution_count": null,
      "outputs": [
        {
          "output_type": "stream",
          "text": [
            "Drive already mounted at /content/drive; to attempt to forcibly remount, call drive.mount(\"/content/drive\", force_remount=True).\n"
          ],
          "name": "stdout"
        }
      ]
    },
    {
      "cell_type": "code",
      "metadata": {
        "id": "HONasBkKb9Ex"
      },
      "source": [
        "root_path = '/content/drive/My Drive/Quora_Question_pair/unzipped_dataset/'"
      ],
      "execution_count": null,
      "outputs": []
    },
    {
      "cell_type": "code",
      "metadata": {
        "id": "0cL_vADUtiUX"
      },
      "source": [
        "train_data = pd.read_csv(root_path + 'train_orig/train.csv')"
      ],
      "execution_count": null,
      "outputs": []
    },
    {
      "cell_type": "code",
      "metadata": {
        "id": "KhWFVB9i0iLp"
      },
      "source": [
        "test_data = pd.read_csv(root_path + 'test.csv')"
      ],
      "execution_count": null,
      "outputs": []
    },
    {
      "cell_type": "markdown",
      "metadata": {
        "id": "TvvbEXXlKwz9"
      },
      "source": [
        "## Explore Data\n"
      ]
    },
    {
      "cell_type": "code",
      "metadata": {
        "id": "_MXSnwdQK2zd",
        "outputId": "9c1e7a22-587f-423b-fffa-0c53058e1701",
        "colab": {
          "base_uri": "https://localhost:8080/",
          "height": 256
        }
      },
      "source": [
        "train_data.info()"
      ],
      "execution_count": null,
      "outputs": [
        {
          "output_type": "stream",
          "text": [
            "<class 'pandas.core.frame.DataFrame'>\n",
            "RangeIndex: 404290 entries, 0 to 404289\n",
            "Data columns (total 6 columns):\n",
            " #   Column        Non-Null Count   Dtype \n",
            "---  ------        --------------   ----- \n",
            " 0   id            404290 non-null  int64 \n",
            " 1   qid1          404290 non-null  int64 \n",
            " 2   qid2          404290 non-null  int64 \n",
            " 3   question1     404289 non-null  object\n",
            " 4   question2     404288 non-null  object\n",
            " 5   is_duplicate  404290 non-null  int64 \n",
            "dtypes: int64(4), object(2)\n",
            "memory usage: 18.5+ MB\n"
          ],
          "name": "stdout"
        }
      ]
    },
    {
      "cell_type": "code",
      "metadata": {
        "id": "QoMHxgZULI54",
        "outputId": "b1956486-0e0c-4133-c5d0-88fc94fbc7c6",
        "colab": {
          "base_uri": "https://localhost:8080/",
          "height": 295
        }
      },
      "source": [
        "train_data.groupby(\"is_duplicate\").count().plot.bar()"
      ],
      "execution_count": null,
      "outputs": [
        {
          "output_type": "execute_result",
          "data": {
            "text/plain": [
              "<matplotlib.axes._subplots.AxesSubplot at 0x7fc197c49c50>"
            ]
          },
          "metadata": {
            "tags": []
          },
          "execution_count": 10
        },
        {
          "output_type": "display_data",
          "data": {
            "image/png": "[encoded data removed]",
            "text/plain": [
              "<Figure size 432x288 with 1 Axes>"
            ]
          },
          "metadata": {
            "tags": [],
            "needs_background": "light"
          }
        }
      ]
    },
    {
      "cell_type": "markdown",
      "metadata": {
        "id": "4fm2JCc_b0uy"
      },
      "source": [
        "## Data preprocessing\n"
      ]
    },
    {
      "cell_type": "markdown",
      "metadata": {
        "id": "sTog_cJaZ-7v"
      },
      "source": [
        "### Clean the data"
      ]
    },
    {
      "cell_type": "code",
      "metadata": {
        "id": "LggTXQvDfBxG"
      },
      "source": [
        "# Drop unneccessary columns from training data\n",
        "train_data.drop(['id','qid1','qid2'] , axis=1 , inplace=True)\n",
        "train_data = train_data[~train_data['is_duplicate'].isnull()]\n",
        "\n",
        "# Helper Functions\n",
        "def remove_html(text):\n",
        "  soup = BeautifulSoup(text,'lxml')\n",
        "  text_html_free = soup.get_text()\n",
        "  return text_html_free\n",
        "\n",
        "def remove_punctuation(text):\n",
        "  no_punct = \"\".join([c for c in text if c not in string.punctuation])\n",
        "  return no_punct\n",
        "\n",
        "def column_preprocess(text):\n",
        "  text = remove_html(text)\n",
        "  text = remove_punctuation(text)\n",
        "  return text\n",
        "\n",
        "def remove_stopwords(text):\n",
        "  text = [w for w in text if w not in stopwords.words('english')]\n",
        "  return text \n",
        "\n",
        "def word_lemmatizer(text):\n",
        "  lemmatizer = WordNetLemmatizer()\n",
        "  lem_text = [lemmatizer.lemmatize(i) for i in text]\n",
        "  return lem_text\n",
        "\n",
        "def preprocess_data(input_data):\n",
        "  # Remove the rows were one values is missing\n",
        "  input_data = input_data[~input_data['question1'].isnull()]\n",
        "  input_data = input_data[~input_data['question2'].isnull()]\n",
        "  \n",
        "  # Clean the text columns\n",
        "  input_data['question1'] = input_data['question1'].apply(lambda x:column_preprocess(x))\n",
        "  input_data['question2'] = input_data['question2'].apply(lambda x:column_preprocess(x))\n",
        "\n",
        "  # Tokenize\n",
        "  input_data['question1'] = input_data['question1'].apply(lambda x:word_tokenize(x.lower()))\n",
        "  input_data['question2'] = input_data['question2'].apply(lambda x:word_tokenize(x.lower()))\n",
        "\n",
        "  # Remove stopwords\n",
        "  input_data['question1'] = input_data['question1'].apply(lambda x:remove_stopwords(x))\n",
        "  input_data['question2'] = input_data['question2'].apply(lambda x:remove_stopwords(x))\n",
        "\n",
        "  # Lemmatizing --> maps common words into one base\n",
        "  input_data['question1'] = input_data['question1'].apply(lambda x:word_lemmatizer(x))\n",
        "  input_data['question2'] = input_data['question2'].apply(lambda x:word_lemmatizer(x))\n",
        "  \n",
        "  return input_data"
      ],
      "execution_count": null,
      "outputs": []
    },
    {
      "cell_type": "code",
      "metadata": {
        "id": "EQ13o138dbsr",
        "outputId": "ac8dc19c-7c27-433e-bf34-095fa31a44a8",
        "colab": {
          "base_uri": "https://localhost:8080/",
          "height": 74
        }
      },
      "source": [
        "train_data = preprocess_data(train_data)\n",
        "test_data = preprocess_data(test_data)"
      ],
      "execution_count": null,
      "outputs": [
        {
          "output_type": "stream",
          "text": [
            "/usr/local/lib/python3.6/dist-packages/bs4/__init__.py:273: UserWarning: \"b'.'\" looks like a filename, not markup. You should probably open this file and pass the filehandle into Beautiful Soup.\n",
            "  ' Beautiful Soup.' % markup)\n"
          ],
          "name": "stderr"
        }
      ]
    },
    {
      "cell_type": "code",
      "metadata": {
        "id": "QjF-F_cE--WK"
      },
      "source": [
        "# Save progress\n",
        "print('Saving progress...')\n",
        "train_data.to_csv(root_path + 'train_pre.csv', index=False)\n",
        "test_data.to_csv(root_path + 'test_pre.csv', index=False)\n",
        "print(\"saved.\")"
      ],
      "execution_count": null,
      "outputs": []
    },
    {
      "cell_type": "code",
      "metadata": {
        "id": "BTAN9T_57tLA"
      },
      "source": [
        "# Create lookup table\n",
        "\n",
        "## Get all unique words\n",
        "counts = Counter()\n",
        "train_data['question1'].apply(counts.update);\n",
        "train_data['question2'].apply(counts.update);\n",
        "test_data['question1'].apply(counts.update)\n",
        "test_data['question2'].apply(counts.update)\n",
        "vocab = sorted(counts , key=counts.get , reverse=True)\n",
        "vocab_to_int = {word : index for index,word in enumerate(vocab,1)}\n",
        "int_to_vocab={index:word for index,word in enumerate(vocab,1)}\n",
        "int_to_vocab"
      ],
      "execution_count": null,
      "outputs": []
    },
    {
      "cell_type": "markdown",
      "metadata": {
        "id": "FJ_XV2_zutYu"
      },
      "source": [
        "### Embedding Matrix\n"
      ]
    },
    {
      "cell_type": "code",
      "metadata": {
        "id": "Mmfv4UpRuwo_"
      },
      "source": [
        "###### الحته دى مش فاهمها اوى لو حد يدور عليها يا ريت :)\n",
        "from gensim.test.utils import datapath\n",
        "from gensim.models import KeyedVectors\n",
        "\n",
        "EMBEDDING_FILE = datapath(\"euclidean_vectors.bin\")\n",
        "word2vec = KeyedVectors.load_word2vec_format(EMBEDDING_FILE, binary=True)\n",
        "########\n",
        "\n",
        "embedding_dim = 300\n",
        "vocab_size = len(vocab)\n",
        "embedding_matrix = 1 * np.random.randn(len(vocabulary) + 1, embedding_dim)\n",
        "embedding_matrix[0]= 0 // unknown token\n",
        "\n",
        "for index,word in enumerate(vocab,1):\n",
        "  if word in word2vec.vocab:\n",
        "        try:\n",
        "            embedding_matrix[index] = word2vec.word_vec(word)\n",
        "        except:\n",
        "            pass\n"
      ],
      "execution_count": null,
      "outputs": []
    },
    {
      "cell_type": "markdown",
      "metadata": {
        "id": "wFphv3I-eu7D"
      },
      "source": [
        "### padding"
      ]
    },
    {
      "cell_type": "code",
      "metadata": {
        "id": "LxYlKJRee4PO"
      },
      "source": [
        "max_len = 0\n",
        "for sentence in train_data['question1'] :\n",
        "  max_len = max(max_len , len(sentence))\n",
        "for sentence in train_data['question2'] :\n",
        "  max_len = max(max_len , len(sentence)) \n",
        "for sentence in test_data['question1'] :\n",
        "  max_len = max(max_len , len(sentence))\n",
        "for sentence in test_data['question2'] :\n",
        "  max_len = max(max_len , len(sentence)) "
      ],
      "execution_count": null,
      "outputs": []
    },
    {
      "cell_type": "code",
      "metadata": {
        "id": "kDWhXAwRsNXb"
      },
      "source": [
        "def integer_encoding_padding(sentence):\n",
        "  encoding_sentence = [] \n",
        "  for word in sentence :\n",
        "    encoding_sentence.append(vocab_to_int(word))\n",
        "  while len(encoding_sentence) < max_len :\n",
        "    enconding_sentence.append(0)\n",
        "  return encoding_sentence\n",
        "\n",
        "train_data['question1'].apply(lambda x:integer_encoding_padding(x))\n",
        "train_data['question2'].apply(lambda x:integer_encoding_padding(x))\n",
        "test_data['question1'].apply(lambda x:integer_encoding_padding(x))\n",
        "test_data['question2'].apply(lambda x:integer_encoding_padding(x))\n",
        "print(max_len)\n",
        "print(train_data)"
      ],
      "execution_count": null,
      "outputs": []
    },
    {
      "cell_type": "markdown",
      "metadata": {
        "id": "pRYpVR6QRB6x"
      },
      "source": [
        "### One Hot Encoding\n"
      ]
    },
    {
      "cell_type": "code",
      "metadata": {
        "id": "8ZFLE8XeRJ4t",
        "outputId": "3971f701-47e9-4e6f-e54e-0f841b0e0f24",
        "colab": {
          "base_uri": "https://localhost:8080/",
          "height": 417
        }
      },
      "source": [
        "# there is a built in function in keras for one hot encoding\n",
        "\n",
        "vocab_size = len(vocab)\n",
        "def one_hot_encoding(sentence):\n",
        "  one_hot_encoded_sentence = list()\n",
        "  for index in sentence :\n",
        "    encoded_word = np.zeros(vocab_size+1)\n",
        "    if word != 0 :\n",
        "      encoded_word[index] = 1\n",
        "    one_hot_encoded_sentence.append(encoded_word)\n",
        "\n",
        "train_data['question1'].apply(lambda x:one_hot_encoding(x))\n",
        "train_data['question2'].apply(lambda x:one_hot_encoding(x))\n",
        "test_data['question1'].apply(lambda x:one_hot_encoding(x))\n",
        "test_data['question2'].apply(lambda x:one_hot_encoding(x))\n",
        "train_data['question1'][0]"
      ],
      "execution_count": null,
      "outputs": [
        {
          "output_type": "error",
          "ename": "KeyboardInterrupt",
          "evalue": "ignored",
          "traceback": [
            "\u001b[0;31m---------------------------------------------------------------------------\u001b[0m",
            "\u001b[0;31mKeyboardInterrupt\u001b[0m                         Traceback (most recent call last)",
            "\u001b[0;32m<ipython-input-38-258c1ad18252>\u001b[0m in \u001b[0;36m<module>\u001b[0;34m()\u001b[0m\n\u001b[1;32m     10\u001b[0m \u001b[0;34m\u001b[0m\u001b[0m\n\u001b[1;32m     11\u001b[0m \u001b[0mtrain_data\u001b[0m\u001b[0;34m[\u001b[0m\u001b[0;34m'question1'\u001b[0m\u001b[0;34m]\u001b[0m\u001b[0;34m.\u001b[0m\u001b[0mapply\u001b[0m\u001b[0;34m(\u001b[0m\u001b[0;32mlambda\u001b[0m \u001b[0mx\u001b[0m\u001b[0;34m:\u001b[0m\u001b[0mone_hot_encoding\u001b[0m\u001b[0;34m(\u001b[0m\u001b[0mx\u001b[0m\u001b[0;34m)\u001b[0m\u001b[0;34m)\u001b[0m\u001b[0;34m\u001b[0m\u001b[0;34m\u001b[0m\u001b[0m\n\u001b[0;32m---> 12\u001b[0;31m \u001b[0mtrain_data\u001b[0m\u001b[0;34m[\u001b[0m\u001b[0;34m'question2'\u001b[0m\u001b[0;34m]\u001b[0m\u001b[0;34m.\u001b[0m\u001b[0mapply\u001b[0m\u001b[0;34m(\u001b[0m\u001b[0;32mlambda\u001b[0m \u001b[0mx\u001b[0m\u001b[0;34m:\u001b[0m\u001b[0mone_hot_encoding\u001b[0m\u001b[0;34m(\u001b[0m\u001b[0mx\u001b[0m\u001b[0;34m)\u001b[0m\u001b[0;34m)\u001b[0m\u001b[0;34m\u001b[0m\u001b[0;34m\u001b[0m\u001b[0m\n\u001b[0m\u001b[1;32m     13\u001b[0m \u001b[0mtrain_data\u001b[0m\u001b[0;34m[\u001b[0m\u001b[0;34m'question1'\u001b[0m\u001b[0;34m]\u001b[0m\u001b[0;34m[\u001b[0m\u001b[0;36m0\u001b[0m\u001b[0;34m]\u001b[0m\u001b[0;34m\u001b[0m\u001b[0;34m\u001b[0m\u001b[0m\n",
            "\u001b[0;32m/usr/local/lib/python3.6/dist-packages/pandas/core/series.py\u001b[0m in \u001b[0;36mapply\u001b[0;34m(self, func, convert_dtype, args, **kwds)\u001b[0m\n\u001b[1;32m   4198\u001b[0m             \u001b[0;32melse\u001b[0m\u001b[0;34m:\u001b[0m\u001b[0;34m\u001b[0m\u001b[0;34m\u001b[0m\u001b[0m\n\u001b[1;32m   4199\u001b[0m                 \u001b[0mvalues\u001b[0m \u001b[0;34m=\u001b[0m \u001b[0mself\u001b[0m\u001b[0;34m.\u001b[0m\u001b[0mastype\u001b[0m\u001b[0;34m(\u001b[0m\u001b[0mobject\u001b[0m\u001b[0;34m)\u001b[0m\u001b[0;34m.\u001b[0m\u001b[0m_values\u001b[0m\u001b[0;34m\u001b[0m\u001b[0;34m\u001b[0m\u001b[0m\n\u001b[0;32m-> 4200\u001b[0;31m                 \u001b[0mmapped\u001b[0m \u001b[0;34m=\u001b[0m \u001b[0mlib\u001b[0m\u001b[0;34m.\u001b[0m\u001b[0mmap_infer\u001b[0m\u001b[0;34m(\u001b[0m\u001b[0mvalues\u001b[0m\u001b[0;34m,\u001b[0m \u001b[0mf\u001b[0m\u001b[0;34m,\u001b[0m \u001b[0mconvert\u001b[0m\u001b[0;34m=\u001b[0m\u001b[0mconvert_dtype\u001b[0m\u001b[0;34m)\u001b[0m\u001b[0;34m\u001b[0m\u001b[0;34m\u001b[0m\u001b[0m\n\u001b[0m\u001b[1;32m   4201\u001b[0m \u001b[0;34m\u001b[0m\u001b[0m\n\u001b[1;32m   4202\u001b[0m         \u001b[0;32mif\u001b[0m \u001b[0mlen\u001b[0m\u001b[0;34m(\u001b[0m\u001b[0mmapped\u001b[0m\u001b[0;34m)\u001b[0m \u001b[0;32mand\u001b[0m \u001b[0misinstance\u001b[0m\u001b[0;34m(\u001b[0m\u001b[0mmapped\u001b[0m\u001b[0;34m[\u001b[0m\u001b[0;36m0\u001b[0m\u001b[0;34m]\u001b[0m\u001b[0;34m,\u001b[0m \u001b[0mSeries\u001b[0m\u001b[0;34m)\u001b[0m\u001b[0;34m:\u001b[0m\u001b[0;34m\u001b[0m\u001b[0;34m\u001b[0m\u001b[0m\n",
            "\u001b[0;32mpandas/_libs/lib.pyx\u001b[0m in \u001b[0;36mpandas._libs.lib.map_infer\u001b[0;34m()\u001b[0m\n",
            "\u001b[0;32m<ipython-input-38-258c1ad18252>\u001b[0m in \u001b[0;36m<lambda>\u001b[0;34m(x)\u001b[0m\n\u001b[1;32m     10\u001b[0m \u001b[0;34m\u001b[0m\u001b[0m\n\u001b[1;32m     11\u001b[0m \u001b[0mtrain_data\u001b[0m\u001b[0;34m[\u001b[0m\u001b[0;34m'question1'\u001b[0m\u001b[0;34m]\u001b[0m\u001b[0;34m.\u001b[0m\u001b[0mapply\u001b[0m\u001b[0;34m(\u001b[0m\u001b[0;32mlambda\u001b[0m \u001b[0mx\u001b[0m\u001b[0;34m:\u001b[0m\u001b[0mone_hot_encoding\u001b[0m\u001b[0;34m(\u001b[0m\u001b[0mx\u001b[0m\u001b[0;34m)\u001b[0m\u001b[0;34m)\u001b[0m\u001b[0;34m\u001b[0m\u001b[0;34m\u001b[0m\u001b[0m\n\u001b[0;32m---> 12\u001b[0;31m \u001b[0mtrain_data\u001b[0m\u001b[0;34m[\u001b[0m\u001b[0;34m'question2'\u001b[0m\u001b[0;34m]\u001b[0m\u001b[0;34m.\u001b[0m\u001b[0mapply\u001b[0m\u001b[0;34m(\u001b[0m\u001b[0;32mlambda\u001b[0m \u001b[0mx\u001b[0m\u001b[0;34m:\u001b[0m\u001b[0mone_hot_encoding\u001b[0m\u001b[0;34m(\u001b[0m\u001b[0mx\u001b[0m\u001b[0;34m)\u001b[0m\u001b[0;34m)\u001b[0m\u001b[0;34m\u001b[0m\u001b[0;34m\u001b[0m\u001b[0m\n\u001b[0m\u001b[1;32m     13\u001b[0m \u001b[0mtrain_data\u001b[0m\u001b[0;34m[\u001b[0m\u001b[0;34m'question1'\u001b[0m\u001b[0;34m]\u001b[0m\u001b[0;34m[\u001b[0m\u001b[0;36m0\u001b[0m\u001b[0;34m]\u001b[0m\u001b[0;34m\u001b[0m\u001b[0;34m\u001b[0m\u001b[0m\n",
            "\u001b[0;32m<ipython-input-38-258c1ad18252>\u001b[0m in \u001b[0;36mone_hot_encoding\u001b[0;34m(sentence)\u001b[0m\n\u001b[1;32m      4\u001b[0m   \u001b[0mone_hot_encoded_sentence\u001b[0m \u001b[0;34m=\u001b[0m \u001b[0mlist\u001b[0m\u001b[0;34m(\u001b[0m\u001b[0;34m)\u001b[0m\u001b[0;34m\u001b[0m\u001b[0;34m\u001b[0m\u001b[0m\n\u001b[1;32m      5\u001b[0m   \u001b[0;32mfor\u001b[0m \u001b[0mword\u001b[0m \u001b[0;32min\u001b[0m \u001b[0msentence\u001b[0m \u001b[0;34m:\u001b[0m\u001b[0;34m\u001b[0m\u001b[0;34m\u001b[0m\u001b[0m\n\u001b[0;32m----> 6\u001b[0;31m     \u001b[0mencoded_word\u001b[0m \u001b[0;34m=\u001b[0m \u001b[0mnp\u001b[0m\u001b[0;34m.\u001b[0m\u001b[0mzeros\u001b[0m\u001b[0;34m(\u001b[0m\u001b[0mvocab_size\u001b[0m\u001b[0;34m)\u001b[0m\u001b[0;34m\u001b[0m\u001b[0;34m\u001b[0m\u001b[0m\n\u001b[0m\u001b[1;32m      7\u001b[0m     \u001b[0mindex\u001b[0m \u001b[0;34m=\u001b[0m \u001b[0mvocab_to_int\u001b[0m\u001b[0;34m[\u001b[0m\u001b[0mword\u001b[0m\u001b[0;34m]\u001b[0m\u001b[0;34m\u001b[0m\u001b[0;34m\u001b[0m\u001b[0m\n\u001b[1;32m      8\u001b[0m     \u001b[0mencoded_word\u001b[0m\u001b[0;34m[\u001b[0m\u001b[0mindex\u001b[0m\u001b[0;34m-\u001b[0m\u001b[0;36m1\u001b[0m\u001b[0;34m]\u001b[0m \u001b[0;34m=\u001b[0m \u001b[0;36m1\u001b[0m\u001b[0;34m\u001b[0m\u001b[0;34m\u001b[0m\u001b[0m\n",
            "\u001b[0;31mKeyboardInterrupt\u001b[0m: "
          ]
        }
      ]
    },
    {
      "cell_type": "markdown",
      "metadata": {
        "id": "TJpYyiBafcs6"
      },
      "source": [
        "## Data preparation"
      ]
    },
    {
      "cell_type": "code",
      "metadata": {
        "id": "8tT51v72_9J_"
      },
      "source": [
        "from sklearn.model_selection import train_test_split\n",
        "valid_size = 40000\n",
        "train_size = len(train_data)- valid_size\n",
        "\n",
        "question_cols = ['question1' , 'question2']\n",
        "X = train_data[question_cols]\n",
        "Y = train_data['is_dublicate']\n",
        "\n",
        "X_train , X_valid , Y_train , Y_valid = train_test_split(X , Y , test_size=train_size)\n",
        "\n",
        "X_train = {'left' : X_train.question1 , 'right':X_train.question2}\n",
        "X_valid = {'left' : X_valid.question1 , 'right' : X_valid.question2}\n",
        "X_test = {'left' : X_test.question1 , 'right' : X_test.question2}\n",
        "\n",
        "# convert ouput to numpy\n",
        "Y_train = Y_train.values\n",
        "Y_valid= Y_valid.values"
      ],
      "execution_count": null,
      "outputs": []
    },
    {
      "cell_type": "markdown",
      "metadata": {
        "id": "hDtkbuyuzkOG"
      },
      "source": [
        "## Model Arctitecture\n",
        "![image.png](data:image/png;base64,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)"
      ]
    },
    {
      "cell_type": "markdown",
      "metadata": {
        "id": "Y9CRZSBXhrKg"
      },
      "source": [
        ""
      ]
    },
    {
      "cell_type": "code",
      "metadata": {
        "id": "MKSnwTWNhmq-"
      },
      "source": [
        "from keras.models import Model\n",
        "from keras.layers import Input, Embedding, LSTM, Merge ,Concatenate , Dense\n",
        "\n",
        "# input -> embedding -> LSTM -> concatante -> Dense\n",
        "def model(input , hidden_units):\n",
        "  # input shape\n",
        "  Left_input = Input(shape=(max_len,))\n",
        "  Right_input = Input(shape=(max_len,))\n",
        "\n",
        "  # embedding step\n",
        "  embedding_layer = Embedding(vocab_size , embedding_dim, weights=[embedding_matrix] , input_length=max_len , trainable=False)\n",
        "  Left_embedding = embedding_layer(Left_input)\n",
        "  Right_embedding = embedding_layer(Right_input)\n",
        "\n",
        "  # LSTM step\n",
        "  shared = LSTM(units=hidden_units , return_sequences=False)\n",
        "  Left_LSTM = shared(Left_embedding)\n",
        "  Right_LSTM = shared(Right_embedding)\n",
        "  \n",
        "  # Concatenate step\n",
        "  output = Concatenate(axis=1)([Left_LSTM , Right_LSTM])\n",
        "\n",
        "  # Fully Connected layer\n",
        "  Dense1 = Dense(units=50 , activation='relu')\n",
        "  output = Dense1(output)\n",
        "\n",
        "  Dense2 = Dense(units=25 , activation='relu')\n",
        "  output = Dense2(output)\n",
        "\n",
        "  Dense3 = Dense(units=1 , activation='sigmoid')\n",
        "  output = Dense3(output)\n",
        "\n",
        "  # Create model instance\n",
        "  model = Model(inputs=[Left_input , Right_input], outputs=output)\n",
        "  return model\n"
      ],
      "execution_count": null,
      "outputs": []
    },
    {
      "cell_type": "code",
      "metadata": {
        "id": "p-A64l5RxQKD"
      },
      "source": [
        ""
      ],
      "execution_count": null,
      "outputs": []
    }
  ]
}